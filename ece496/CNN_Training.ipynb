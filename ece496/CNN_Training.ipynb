{
 "cells": [
  {
   "cell_type": "markdown",
   "metadata": {},
   "source": [
    "This notebook first generate several random sound files and feed the data into the training model of cnn.\n",
    "The CNN model should learn to classify each sound and give the output."
   ]
  },
  {
   "cell_type": "markdown",
   "metadata": {},
   "source": [
    "### Import libraries"
   ]
  },
  {
   "cell_type": "code",
   "execution_count": 2,
   "metadata": {},
   "outputs": [
    {
     "name": "stderr",
     "output_type": "stream",
     "text": [
      "/anaconda3/lib/python3.6/site-packages/h5py/__init__.py:36: FutureWarning: Conversion of the second argument of issubdtype from `float` to `np.floating` is deprecated. In future, it will be treated as `np.float64 == np.dtype(float).type`.\n",
      "  from ._conv import register_converters as _register_converters\n"
     ]
    }
   ],
   "source": [
    "import matplotlib.pyplot as plt\n",
    "\n",
    "from scipy.io import wavfile\n",
    "import scipy.signal\n",
    "import numpy as np\n",
    "np.set_printoptions(threshold=np.nan)\n",
    "import time\n",
    "import fluidsynth\n",
    "\n",
    "import tensorflow as tf\n",
    "import os\n",
    "from scipy import signal\n",
    "from scipy.fftpack import fft, ifft\n",
    "from imageio import imread\n",
    "from random import shuffle\n",
    "\n",
    "from IPython.display import Audio\n",
    "%matplotlib inline"
   ]
  },
  {
   "cell_type": "code",
   "execution_count": 3,
   "metadata": {},
   "outputs": [
    {
     "name": "stderr",
     "output_type": "stream",
     "text": [
      "Using TensorFlow backend.\n"
     ]
    }
   ],
   "source": [
    "import keras\n",
    "from keras.models import Sequential\n",
    "from keras.layers import Activation, Dense, Conv2D, MaxPooling2D, Flatten\n",
    "from keras.layers.normalization import BatchNormalization"
   ]
  },
  {
   "cell_type": "code",
   "execution_count": 33,
   "metadata": {},
   "outputs": [],
   "source": [
    "def generate_data(n, t=0.125):\n",
    "    # in this function, user enter the number of training data and the function will return a list\n",
    "    # that contains the data and the label\n",
    "    # By calling this fucntion, we can get the training data and the test data\n",
    "    fl = fluidsynth.Synth(gain=3) #gain=[0,10]\n",
    "    fl.audio_driver=\"alsa\"\n",
    "    sfid = fl.sfload(\"Wii_Grand_Piano.sf2\")\n",
    "\n",
    "    fl.program_select(0, sfid, 0, 0)\n",
    "    _ = fl.cc(0, 7, 110) #fl.cc(0,7,50): chanel 0 volume is 50, range=0~127 np.random.uniform(40,100)\n",
    "\n",
    "    data_length = 4096\n",
    "    data_set = []\n",
    "    # length of data after fft is 4096 = 64x64\n",
    "    # we need to reshape the data to a 2D array in order to do the convolution\n",
    "    data = np.zeros((n, 64, 64, 1))\n",
    "    # label is one-hot coded\n",
    "    label = np.zeros((n, 7))\n",
    "    #fs.start(\"alsa\")\n",
    "    for i in range(n):\n",
    "    \n",
    "        _ = fl.cc(0,11, np.random.randint(75,85)) #fl.cc(0,11,50): chanel 0 expression is 50, range=0~127 (0: soft, 127: hard)\n",
    "        s=np.zeros((1,),dtype=np.int16)\n",
    "\n",
    "        s = np.append(s, fl.get_samples(int(44100 * 0.2))[::2]) # we give 0.2 seconds of silent at first\n",
    "\n",
    "        music = np.array([60,62,64,65,67,69,71])\n",
    "        midiNum=int(np.random.choice(music))\n",
    "        # write label to label array\n",
    "        label[i] = (midiNum==music).astype(float)\n",
    "        fl.noteon(0, midiNum, int(np.random.randint(30,100)))\n",
    "\n",
    "        #time.sleep(1.0)\n",
    "        s = np.append(s, fl.get_samples(int(44100 * np.random.uniform(2, 3)))[::2])\n",
    "\n",
    "\n",
    "        fl.noteoff(0, midiNum)\n",
    "        #time.sleep(1.0)\n",
    "\n",
    "        s = np.append(s, fl.get_samples(44100 * 1)[::2])\n",
    "        # record the data\n",
    "        L = s.shape[0]\n",
    "        offset = int(L/2)\n",
    "        sound_data = s[offset:offset+data_length]\n",
    "        freq = fft(sound_data, n=4096)\n",
    "        data[i,:,:,0] = np.abs(freq.reshape(64, 64))\n",
    "\n",
    "        #plt.plot(s)\n",
    "        #plt.show()\n",
    "\n",
    "\n",
    "\n",
    "        #wavfile.write(\"a\"+str(i)+\"wav\",44100,s)\n",
    "\n",
    "    fl.delete()\n",
    "    return [data, label]"
   ]
  },
  {
   "cell_type": "code",
   "execution_count": 34,
   "metadata": {},
   "outputs": [],
   "source": [
    "def cnn_keras(x_train, y_train, batch_size, epochs, x_test, y_test):\n",
    "    # several steps\n",
    "    # 1. construct the model\n",
    "    # 2. compile the model\n",
    "    # 3. train the model with the input data\n",
    "    model = Sequential()\n",
    "\n",
    "    model.add(Conv2D(3, kernel_size=(5, 5), strides=(1, 1), activation='relu', padding=\"valid\"))\n",
    "    model.add(BatchNormalization())\n",
    "    model.add(MaxPooling2D(pool_size=(12, 12), strides=(12, 12)))\n",
    "    model.add(Flatten())\n",
    "    model.add(Dense(30, init='uniform'))\n",
    "    model.add(BatchNormalization())\n",
    "    model.add(Activation('relu'))\n",
    "    \n",
    "    model.add(Dense(7, activation='softmax'))\n",
    "\n",
    "    model.compile(loss=keras.losses.categorical_crossentropy,\n",
    "                  optimizer=keras.optimizers.SGD(lr=0.1),\n",
    "                  metrics=['accuracy'])\n",
    "\n",
    "    model.fit(x_train, y_train,\n",
    "              batch_size=batch_size,\n",
    "              epochs=epochs,\n",
    "              verbose=1,\n",
    "              validation_data=(x_test, y_test),\n",
    "              callbacks=[history])\n",
    "    \n",
    "    return model\n",
    "\n",
    "class AccuracyHistory(keras.callbacks.Callback):\n",
    "    def on_train_begin(self, logs={}):\n",
    "        self.acc = []\n",
    "        self.loss = []\n",
    "\n",
    "    def on_epoch_end(self, batch, logs={}):\n",
    "        self.acc.append(logs.get('acc'))\n",
    "        self.loss.append(logs.get('loss'))"
   ]
  },
  {
   "cell_type": "markdown",
   "metadata": {},
   "source": [
    "## Create Data Set"
   ]
  },
  {
   "cell_type": "code",
   "execution_count": 35,
   "metadata": {},
   "outputs": [
    {
     "name": "stdout",
     "output_type": "stream",
     "text": [
      "elapsed time is 57.527148962020874\n"
     ]
    }
   ],
   "source": [
    "start_time = time.time()\n",
    "train_set = generate_data(2000)\n",
    "val_set = generate_data(800)\n",
    "elapsed_time = time.time() - start_time\n",
    "print(\"elapsed time is\", elapsed_time)"
   ]
  },
  {
   "cell_type": "code",
   "execution_count": 36,
   "metadata": {},
   "outputs": [
    {
     "name": "stderr",
     "output_type": "stream",
     "text": [
      "/Users/tonyzyc/.local/lib/python3.6/site-packages/ipykernel_launcher.py:12: UserWarning: Update your `Dense` call to the Keras 2 API: `Dense(30, kernel_initializer=\"uniform\")`\n",
      "  if sys.path[0] == '':\n"
     ]
    },
    {
     "name": "stdout",
     "output_type": "stream",
     "text": [
      "Train on 2000 samples, validate on 800 samples\n",
      "Epoch 1/20\n",
      "2000/2000 [==============================] - 5s 2ms/step - loss: 0.4842 - acc: 0.8860 - val_loss: 0.1932 - val_acc: 0.9988\n",
      "Epoch 2/20\n",
      "2000/2000 [==============================] - 4s 2ms/step - loss: 0.2062 - acc: 0.9510 - val_loss: 0.1080 - val_acc: 1.0000\n",
      "Epoch 3/20\n",
      "2000/2000 [==============================] - 4s 2ms/step - loss: 0.1533 - acc: 0.9590 - val_loss: 0.0740 - val_acc: 1.0000\n",
      "Epoch 4/20\n",
      "2000/2000 [==============================] - 4s 2ms/step - loss: 0.1158 - acc: 0.9745 - val_loss: 0.0611 - val_acc: 1.0000\n",
      "Epoch 5/20\n",
      "2000/2000 [==============================] - 4s 2ms/step - loss: 0.1010 - acc: 0.9770 - val_loss: 0.0427 - val_acc: 1.0000\n",
      "Epoch 6/20\n",
      "2000/2000 [==============================] - 4s 2ms/step - loss: 0.0836 - acc: 0.9795 - val_loss: 0.0415 - val_acc: 1.0000\n",
      "Epoch 7/20\n",
      "2000/2000 [==============================] - 4s 2ms/step - loss: 0.0725 - acc: 0.9875 - val_loss: 0.0539 - val_acc: 1.0000\n",
      "Epoch 8/20\n",
      "2000/2000 [==============================] - 4s 2ms/step - loss: 0.0687 - acc: 0.9830 - val_loss: 0.0281 - val_acc: 1.0000\n",
      "Epoch 9/20\n",
      "2000/2000 [==============================] - 4s 2ms/step - loss: 0.0719 - acc: 0.9805 - val_loss: 0.0357 - val_acc: 1.0000\n",
      "Epoch 10/20\n",
      "2000/2000 [==============================] - 4s 2ms/step - loss: 0.0524 - acc: 0.9905 - val_loss: 0.0223 - val_acc: 1.0000\n",
      "Epoch 11/20\n",
      "2000/2000 [==============================] - 4s 2ms/step - loss: 0.0476 - acc: 0.9900 - val_loss: 0.0206 - val_acc: 1.0000\n",
      "Epoch 12/20\n",
      "2000/2000 [==============================] - 4s 2ms/step - loss: 0.0584 - acc: 0.9855 - val_loss: 0.0215 - val_acc: 1.0000\n",
      "Epoch 13/20\n",
      "2000/2000 [==============================] - 5s 2ms/step - loss: 0.0449 - acc: 0.9915 - val_loss: 0.0171 - val_acc: 1.0000\n",
      "Epoch 14/20\n",
      "2000/2000 [==============================] - 4s 2ms/step - loss: 0.0402 - acc: 0.9925 - val_loss: 0.0159 - val_acc: 1.0000\n",
      "Epoch 15/20\n",
      "2000/2000 [==============================] - 4s 2ms/step - loss: 0.0439 - acc: 0.9900 - val_loss: 0.0297 - val_acc: 1.0000\n",
      "Epoch 16/20\n",
      "2000/2000 [==============================] - 4s 2ms/step - loss: 0.0413 - acc: 0.9935 - val_loss: 0.0140 - val_acc: 1.0000\n",
      "Epoch 17/20\n",
      "2000/2000 [==============================] - 4s 2ms/step - loss: 0.0302 - acc: 0.9950 - val_loss: 0.0112 - val_acc: 1.0000\n",
      "Epoch 18/20\n",
      "2000/2000 [==============================] - 5s 2ms/step - loss: 0.0341 - acc: 0.9930 - val_loss: 0.0119 - val_acc: 1.0000\n",
      "Epoch 19/20\n",
      "2000/2000 [==============================] - 4s 2ms/step - loss: 0.0250 - acc: 0.9935 - val_loss: 0.0117 - val_acc: 1.0000\n",
      "Epoch 20/20\n",
      "2000/2000 [==============================] - 4s 2ms/step - loss: 0.0304 - acc: 0.9935 - val_loss: 0.0100 - val_acc: 1.0000\n"
     ]
    }
   ],
   "source": [
    "history = AccuracyHistory()\n",
    "model = cnn_keras(train_set[0], train_set[1], 16, 20, val_set[0], val_set[1])"
   ]
  },
  {
   "cell_type": "code",
   "execution_count": 37,
   "metadata": {},
   "outputs": [
    {
     "data": {
      "image/png": "[encoded data removed]",
      "text/plain": [
       "<Figure size 432x288 with 1 Axes>"
      ]
     },
     "metadata": {},
     "output_type": "display_data"
    }
   ],
   "source": [
    "plt.plot(range(1,21), history.acc)\n",
    "plt.xlabel('Epochs')\n",
    "plt.ylabel('Accuracy')\n",
    "plt.show()"
   ]
  },
  {
   "cell_type": "code",
   "execution_count": 38,
   "metadata": {},
   "outputs": [
    {
     "data": {
      "image/png": "[encoded data removed]",
      "text/plain": [
       "<Figure size 432x288 with 1 Axes>"
      ]
     },
     "metadata": {},
     "output_type": "display_data"
    }
   ],
   "source": [
    "plt.plot(range(1,21), history.loss)\n",
    "plt.xlabel('Epochs')\n",
    "plt.ylabel('Loss')\n",
    "plt.show()"
   ]
  },
  {
   "cell_type": "code",
   "execution_count": 39,
   "metadata": {},
   "outputs": [
    {
     "name": "stdout",
     "output_type": "stream",
     "text": [
      "Test loss: 0.007024107046425343\n",
      "Test accuracy: 1.0\n"
     ]
    }
   ],
   "source": [
    "score = model.evaluate(train_set[0], train_set[1], verbose=0)\n",
    "print('Test loss:', score[0])\n",
    "print('Test accuracy:', score[1])"
   ]
  },
  {
   "cell_type": "code",
   "execution_count": 3,
   "metadata": {},
   "outputs": [],
   "source": [
    "from scipy.io import wavfile\n",
    "import scipy.signal\n",
    "import numpy as np\n",
    "np.set_printoptions(threshold=np.nan)\n",
    "import time\n",
    "import fluidsynth\n",
    "\n",
    "from random import shuffle\n",
    "\n",
    "def f(total_duration=10, note_duration=2.5):\n",
    "    # in this function, user enter the number of training data and the function will return a list\n",
    "    # that contains the data\n",
    "    sample_rate = 44100\n",
    "    # N is the total sample points and n is the total number of notes\n",
    "    N = int(sample_rate * total_duration)\n",
    "    n = int(total_duration/note_duration)\n",
    "    fl = fluidsynth.Synth(gain=3) #gain=[0,10]\n",
    "    fl.audio_driver=\"alsa\"\n",
    "    sfid = fl.sfload(\"Wii_Grand_Piano.sf2\")\n",
    "\n",
    "    fl.program_select(0, sfid, 0, 0)\n",
    "    _ = fl.cc(0, 7, 110) #fl.cc(0,7,50): chanel 0 volume is 50, range=0~127 np.random.uniform(40,100)\n",
    "    # there are 7 music nodes to choose from\n",
    "    music = np.array([60, 62, 64, 65, 67, 69, 71])\n",
    "    data = []\n",
    "    #fs.start(\"alsa\")\n",
    "    for i in range(n):\n",
    "\n",
    "        _ = fl.cc(0,11, np.random.randint(75,85)) #fl.cc(0,11,50): chanel 0 expression is 50, range=0~127 (0: soft, 127: hard)\n",
    "        quiet = fl.get_samples(int(sample_rate * 0.2))[::2] # we give 0.2 seconds of silent at first\n",
    "        data.append(quiet)\n",
    "\n",
    "\n",
    "        midiNum=int(np.random.choice(music))\n",
    "        fl.noteon(0, midiNum, int(np.random.randint(30,100)))\n",
    "\n",
    "        #time.sleep(1.0)\n",
    "        s = fl.get_samples(int(44100 * (note_duration-0.2)))[::2]\n",
    "        data.append(s)\n",
    "\n",
    "\n",
    "        fl.noteoff(0, midiNum)\n",
    "\n",
    "    fl.delete()\n",
    "    data = np.hstack(data)\n",
    "    return data"
   ]
  },
  {
   "cell_type": "code",
   "execution_count": 4,
   "metadata": {},
   "outputs": [],
   "source": [
    "a = f()"
   ]
  },
  {
   "cell_type": "code",
   "execution_count": 5,
   "metadata": {},
   "outputs": [
    {
     "data": {
      "text/plain": [
       "(440996,)"
      ]
     },
     "execution_count": 5,
     "metadata": {},
     "output_type": "execute_result"
    }
   ],
   "source": [
    "a.shape"
   ]
  },
  {
   "cell_type": "code",
   "execution_count": null,
   "metadata": {},
   "outputs": [],
   "source": []
  }
 ],
 "metadata": {
  "kernelspec": {
   "display_name": "Python 3",
   "language": "python",
   "name": "python3"
  },
  "language_info": {
   "codemirror_mode": {
    "name": "ipython",
    "version": 3
   },
   "file_extension": ".py",
   "mimetype": "text/x-python",
   "name": "python",
   "nbconvert_exporter": "python",
   "pygments_lexer": "ipython3",
   "version": "3.6.5"
  }
 },
 "nbformat": 4,
 "nbformat_minor": 2
}
